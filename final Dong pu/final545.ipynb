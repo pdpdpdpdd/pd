{
 "cells": [
  {
   "cell_type": "code",
   "execution_count": 1,
   "id": "499cb04c-1b0f-4f3b-853d-cdb4e632be85",
   "metadata": {},
   "outputs": [],
   "source": [
    "#import packages\n",
    "from scipy.stats import norm, t\n",
    "import scipy\n",
    "import numpy as np\n",
    "import pandas as pd\n",
    "from scipy.stats import skew, kurtosis\n",
    "from statsmodels.graphics.tsaplots import plot_acf, plot_pacf\n",
    "import sys \n",
    "import os\n",
    "sys.path.append(os.path.abspath(\"/Users/pudong/Desktop\"))\n",
    "import risklib\n",
    "from datetime import datetime\n",
    "from functools import partial\n",
    "import matplotlib.pyplot as plt\n",
    "import seaborn as sns\n",
    "import statsmodels.api as sm\n",
    "import warnings\n",
    "warnings.filterwarnings('ignore')\n",
    "from __future__ import division\n",
    "from numpy.linalg import inv,pinv\n",
    "from scipy.optimize import minimize\n",
    "import copy"
   ]
  },
  {
   "cell_type": "code",
   "execution_count": 2,
   "id": "2e9d2b69-99bd-4251-b09c-c2ee8b2b7ea0",
   "metadata": {},
   "outputs": [],
   "source": [
    "# Question 1(a)"
   ]
  },
  {
   "cell_type": "code",
   "execution_count": 229,
   "id": "945d2550-0cca-43c4-9254-646fe0acbd35",
   "metadata": {},
   "outputs": [],
   "source": [
    "#Read data\n",
    "q1 = pd.read_csv('finalproblem1.csv', index_col=3)"
   ]
  },
  {
   "cell_type": "code",
   "execution_count": 71,
   "id": "478ea1a0-886a-402d-94c3-ff8574b6ee59",
   "metadata": {},
   "outputs": [],
   "source": [
    "#Calculate Log Returns\n",
    "def pd_return_calculate(prices, method=\"arithmetic\"):\n",
    "    price_change_percent = (prices / prices.shift(1))[1:]\n",
    "    if method == \"arithmetic\":\n",
    "        return price_change_percent - 1\n",
    "    elif method == \"log\":\n",
    "        return np.log(price_change_percent)"
   ]
  },
  {
   "cell_type": "code",
   "execution_count": 74,
   "id": "03c080e2-a6d2-48e5-be03-13680b0a9e49",
   "metadata": {},
   "outputs": [
    {
     "name": "stdout",
     "output_type": "stream",
     "text": [
      "The log returns are as the following:\n",
      "              Price1    Price2    Price3\n",
      "Date                                    \n",
      "2023-04-13  0.014389 -0.001276  0.012089\n",
      "2023-04-14  0.000350  0.018212 -0.018281\n",
      "2023-04-15       NaN -0.027514 -0.004008\n",
      "2023-04-16       NaN  0.015923       NaN\n",
      "2023-04-17  0.019789  0.041891       NaN\n",
      "2023-04-18  0.011155 -0.008922 -0.001463\n",
      "2023-04-19 -0.016460 -0.053688 -0.012862\n",
      "2023-04-20 -0.001548  0.039996  0.030623\n",
      "2023-04-21 -0.003592       NaN       NaN\n",
      "2023-04-22  0.004768       NaN       NaN\n",
      "2023-04-23       NaN       NaN -0.033571\n",
      "2023-04-24       NaN       NaN  0.017242\n",
      "2023-04-25  0.010076  0.004917  0.025432\n",
      "2023-04-26  0.001086 -0.007237 -0.023922\n",
      "2023-04-27 -0.006507 -0.023310  0.028445\n",
      "2023-04-28 -0.005505  0.053597 -0.027276\n",
      "2023-04-29  0.002584 -0.053102  0.016422\n",
      "2023-04-30  0.005423  0.035326  0.004032\n",
      "2023-05-01 -0.015111 -0.022887 -0.021360\n"
     ]
    }
   ],
   "source": [
    "log_return = pd_return_calculate(q1, method=\"log\")\n",
    "print('The log returns are as the following:')\n",
    "print(log_return)"
   ]
  },
  {
   "cell_type": "code",
   "execution_count": 63,
   "id": "5e7e56a3-38f2-4a0f-aef6-31d812c35b23",
   "metadata": {},
   "outputs": [
    {
     "name": "stdout",
     "output_type": "stream",
     "text": [
      "Pairwise correlation matrix:\n",
      "\n",
      "          Price1    Price2    Price3\n",
      "Price1  1.000000  0.293073 -0.206321\n",
      "Price2  0.293073  1.000000 -0.049936\n",
      "Price3 -0.206321 -0.049936  1.000000\n"
     ]
    }
   ],
   "source": [
    "# Question 1(b)\n",
    "correlation_matrix = q1.corr()\n",
    "correlation_matrix\n",
    "print('Pairwise correlation matrix:\\n')\n",
    "print(correlation_matrix)"
   ]
  },
  {
   "cell_type": "code",
   "execution_count": 66,
   "id": "2f9e834c-99f3-4bcc-b850-43604638ff94",
   "metadata": {},
   "outputs": [
    {
     "name": "stdout",
     "output_type": "stream",
     "text": [
      "True\n",
      "This matrix is PSD from the test above.\n"
     ]
    }
   ],
   "source": [
    "# Question 1(c)\n",
    "def is_psd(matrix, tol=1e-7):\n",
    "    return np.all(np.linalg.eigvals(matrix) >= -tol)\n",
    "\n",
    "#print comfirm result\n",
    "print(is_psd(correlation_matrix))\n",
    "print('This matrix is PSD from the test above.')"
   ]
  },
  {
   "cell_type": "code",
   "execution_count": 228,
   "id": "edf8c67a-038a-4d3e-8531-c4891d0c403c",
   "metadata": {},
   "outputs": [],
   "source": [
    "# Question 1(d)"
   ]
  },
  {
   "cell_type": "markdown",
   "id": "b96a4ea2-3e11-4027-9fba-e7e3fd941903",
   "metadata": {},
   "source": [
    "Missing values are very common in finance. Not all markets are open at the same time on the same days.\n",
    "A holiday in one market is not necessarily a holiday in another, even in the same country.\n",
    "If we only use the days on which all markets are open, the data is very limited and we will lose a \n",
    "large portion of the data. Finding the matching rows for each pair is a good way, although we do not\n",
    "garentee that the matrix is PSD."
   ]
  },
  {
   "cell_type": "code",
   "execution_count": 39,
   "id": "c64c42f6-deb4-4fbb-b191-acc74c6730af",
   "metadata": {},
   "outputs": [],
   "source": [
    "#Question 2(a)"
   ]
  },
  {
   "cell_type": "code",
   "execution_count": 41,
   "id": "cb47f9f2-91f4-478e-a379-e4a354dfe10e",
   "metadata": {},
   "outputs": [],
   "source": [
    "def gbsm(option_type, S, X, T, sigma, r, b):\n",
    "    '''\n",
    "    option_type: call or put\n",
    "    S: Underlying price\n",
    "    X: Strike price\n",
    "    T: Time to maturity\n",
    "    sigma: Implied volatility\n",
    "    r: Risk free rate\n",
    "    b: Cost of carry\n",
    "    '''\n",
    "    d1 = (np.log(S / X) + (b + 0.5 * sigma ** 2) * T) / (sigma * np.sqrt(T))\n",
    "    d2 = d1 - sigma * np.sqrt(T)\n",
    "    is_call = 1 if option_type == \"Call\" else -1\n",
    "\n",
    "    res = is_call * (S * np.e ** ((b - r) * T) * \\\n",
    "                   scipy.stats.norm(0, 1).cdf(is_call * d1) \\\n",
    "                   - X * np.e ** (-r * T) * \\\n",
    "                   scipy.stats.norm(0, 1).cdf(is_call * d2))\n",
    "    \n",
    "    return res"
   ]
  },
  {
   "cell_type": "code",
   "execution_count": 231,
   "id": "0736f2bc-fa69-4c9f-a6bb-63c08684123e",
   "metadata": {},
   "outputs": [],
   "source": [
    "S=85.65844188147227\n",
    "X = 84.76917628074074\n",
    "T = 142/365\n",
    "sigma = 0.23\n",
    "r = 0.045\n",
    "coupon = 0.051785406106137744\n",
    "b = r - coupon"
   ]
  },
  {
   "cell_type": "code",
   "execution_count": 48,
   "id": "642415be-fba5-4cca-9d40-23b209649525",
   "metadata": {},
   "outputs": [
    {
     "name": "stdout",
     "output_type": "stream",
     "text": [
      "Call price is: 5.114843950375857\n"
     ]
    }
   ],
   "source": [
    "# call price\n",
    "call_price = gbsm('Call', S, X, T, sigma, r, b)\n",
    "print('Call price is:', call_price)"
   ]
  },
  {
   "cell_type": "code",
   "execution_count": 49,
   "id": "62494f05-de35-4cb0-9582-c42b1cf5b266",
   "metadata": {},
   "outputs": [],
   "source": [
    "# Question 2(b)"
   ]
  },
  {
   "cell_type": "code",
   "execution_count": 232,
   "id": "74dbd3b7-b9a1-4805-95f2-b1fa80797764",
   "metadata": {},
   "outputs": [],
   "source": [
    "def calculate_d1(S, X, T, sigma, b):\n",
    "    return (np.log(S / X) + (b + sigma ** 2 / 2) * T) / (sigma * np.sqrt(T))\n",
    "\n",
    "def calculate_d2(d1, T, sigma):\n",
    "    return d1 - sigma * np.sqrt(T)"
   ]
  },
  {
   "cell_type": "code",
   "execution_count": 233,
   "id": "6144843a-a3e9-4195-9ff0-2b7a791fdb64",
   "metadata": {},
   "outputs": [],
   "source": [
    "def gbsm_delta(option_type, S, X, T, sigma, r, b):\n",
    "    is_call = 1 if option_type == \"Call\" else -1\n",
    "    d1 = calculate_d1(S, X, T, sigma, b)\n",
    "    delta = norm.cdf(d1 * is_call, 0, 1) * is_call\n",
    "    return delta\n",
    "\n",
    "def gbsm_gamma(option_type, S, X, T, sigma, r, b):\n",
    "    d1 = calculate_d1(S, X, T, sigma, b)\n",
    "    d2 = calculate_d2(d1, T, sigma)\n",
    "    gamma = norm.pdf(d1, 0, 1) / (S * sigma * np.sqrt(T))\n",
    "    return gamma\n",
    "\n",
    "def gbsm_vega(option_type, S, X, T, sigma, r, b):\n",
    "    d1 = calculate_d1(S, X, T, sigma, b)\n",
    "    d2 = calculate_d2(d1, T, sigma)\n",
    "    vega = S * norm.pdf(d1, 0, 1) * np.sqrt(T)\n",
    "    return vega\n",
    "\n",
    "def gbsm_theta(option_type, S, X, T, sigma, r, b):\n",
    "    is_call = 1 if option_type == \"Call\" else -1\n",
    "    d1 = calculate_d1(S, X, T, sigma, b)\n",
    "    d2 = calculate_d2(d1, T, sigma)\n",
    "    theta = -S * np.exp((b - r) * T) * norm.pdf(d1, 0, 1) * sigma / (2 * np.sqrt(T)) \\\n",
    "          -(b - r) * S * np.exp((b - r) * T) * norm.cdf(d1 * is_call, 0, 1) * is_call \\\n",
    "          -r * X * np.exp(-r * T) * norm.cdf(d2 * is_call, 0, 1) * is_call\n",
    "    return theta\n",
    "\n",
    "def gbsm_rho(option_type, S, X, T, sigma, r, b):\n",
    "    is_call = 1 if option_type == \"Call\" else -1\n",
    "    d1 = calculate_d1(S, X, T, sigma, b)\n",
    "    d2 = calculate_d2(d1, T, sigma)\n",
    "    rho = X * T * np.exp(-r * T) * norm.cdf(d2 * is_call, 0, 1) * is_call\n",
    "    return rho\n",
    "\n",
    "def gbsm_carry_rho(option_type, S, X, T, sigma, r, b):\n",
    "    is_call = 1 if option_type == \"Call\" else -1\n",
    "    d1 = calculate_d1(S, X, T, sigma, b)\n",
    "    d2 = calculate_d2(d1, T, sigma)\n",
    "    carry_rho = S * T * np.exp((b - r) * T) * norm.cdf(d1 * is_call, 0, 1) * is_call\n",
    "    return carry_rho"
   ]
  },
  {
   "cell_type": "code",
   "execution_count": 234,
   "id": "bdc4df62-8dda-423a-8c90-1cb93a42ee26",
   "metadata": {},
   "outputs": [
    {
     "name": "stdout",
     "output_type": "stream",
     "text": [
      "Delta is: 0.5501626934623628\n"
     ]
    }
   ],
   "source": [
    "# Question 2(b)\n",
    "#Delta\n",
    "delta = gbsm_delta('Call', S, X, T, sigma, r, b)\n",
    "print('Delta is:', delta)"
   ]
  },
  {
   "cell_type": "code",
   "execution_count": 161,
   "id": "927f121d-8437-499a-852f-e9ee9026745d",
   "metadata": {},
   "outputs": [
    {
     "name": "stdout",
     "output_type": "stream",
     "text": [
      "Gamma is: 0.03220793839235446\n"
     ]
    }
   ],
   "source": [
    "#Question 2(c)\n",
    "#Gamma\n",
    "gamma = gbsm_gamma('Call', S, X, T, sigma, r, b)\n",
    "print('Gamma is:', gamma)"
   ]
  },
  {
   "cell_type": "code",
   "execution_count": 56,
   "id": "e72ff455-8408-40de-91fa-79b221d47910",
   "metadata": {},
   "outputs": [
    {
     "name": "stdout",
     "output_type": "stream",
     "text": [
      "Vega is: 21.14591993424314\n"
     ]
    }
   ],
   "source": [
    "#Question 2(d)\n",
    "#Vega\n",
    "vega = gbsm_vega('Call', S, X, T, sigma, r, b)\n",
    "print('Vega is:', vega)"
   ]
  },
  {
   "cell_type": "code",
   "execution_count": 57,
   "id": "8b1cdaa2-f9ff-44a4-b7ad-ac8fb9005d78",
   "metadata": {},
   "outputs": [
    {
     "name": "stdout",
     "output_type": "stream",
     "text": [
      "Rho is: 15.978424540858985\n"
     ]
    }
   ],
   "source": [
    "#Question 2(e)\n",
    "#Rho\n",
    "rho = gbsm_rho('Call', S, X, T, sigma, r, b)\n",
    "print('Rho is:', rho)"
   ]
  },
  {
   "cell_type": "code",
   "execution_count": null,
   "id": "a03d74da-2691-407a-aea5-bf0e0483085c",
   "metadata": {},
   "outputs": [],
   "source": [
    "#Question 2(f)\n"
   ]
  },
  {
   "cell_type": "code",
   "execution_count": 75,
   "id": "ec3fcadc-cccf-4848-8913-3426954c0e06",
   "metadata": {},
   "outputs": [],
   "source": [
    "# Question 3(a)"
   ]
  },
  {
   "cell_type": "code",
   "execution_count": 78,
   "id": "c32a5179-48a4-42bb-83c8-b3ef66e057ac",
   "metadata": {},
   "outputs": [],
   "source": [
    "# Read data\n",
    "q3cov = pd.read_csv('problem3_cov.csv')\n",
    "q3er = pd.read_csv('problem3_ER.csv')"
   ]
  },
  {
   "cell_type": "code",
   "execution_count": 85,
   "id": "9bbcadad-c323-49f8-a0a7-11c6692eab60",
   "metadata": {},
   "outputs": [],
   "source": [
    "stocks = ['A','B','C']\n",
    "cov_matrix = np.matrix(q3cov)\n",
    "expect_return = np.matrix(q3er.drop(['RF'], axis=1))"
   ]
  },
  {
   "cell_type": "code",
   "execution_count": 88,
   "id": "eadf417d-eb72-4661-9638-13e49f8bfbed",
   "metadata": {},
   "outputs": [
    {
     "name": "stdout",
     "output_type": "stream",
     "text": [
      "The most efficient portfolio consists of: \n"
     ]
    },
    {
     "data": {
      "text/html": [
       "<div>\n",
       "<style scoped>\n",
       "    .dataframe tbody tr th:only-of-type {\n",
       "        vertical-align: middle;\n",
       "    }\n",
       "\n",
       "    .dataframe tbody tr th {\n",
       "        vertical-align: top;\n",
       "    }\n",
       "\n",
       "    .dataframe thead th {\n",
       "        text-align: right;\n",
       "    }\n",
       "</style>\n",
       "<table border=\"1\" class=\"dataframe\">\n",
       "  <thead>\n",
       "    <tr style=\"text-align: right;\">\n",
       "      <th></th>\n",
       "      <th>weights(%)</th>\n",
       "    </tr>\n",
       "  </thead>\n",
       "  <tbody>\n",
       "    <tr>\n",
       "      <th>A</th>\n",
       "      <td>34.55</td>\n",
       "    </tr>\n",
       "    <tr>\n",
       "      <th>B</th>\n",
       "      <td>34.87</td>\n",
       "    </tr>\n",
       "    <tr>\n",
       "      <th>C</th>\n",
       "      <td>30.59</td>\n",
       "    </tr>\n",
       "  </tbody>\n",
       "</table>\n",
       "</div>"
      ],
      "text/plain": [
       "   weights(%)\n",
       "A       34.55\n",
       "B       34.87\n",
       "C       30.59"
      ]
     },
     "metadata": {},
     "output_type": "display_data"
    },
    {
     "name": "stdout",
     "output_type": "stream",
     "text": [
      "The Portfolio's Sharpe Ratio is: 0.5566581406854578\n"
     ]
    }
   ],
   "source": [
    "def neg_sharpe_ratio(weights, mean, cov, r):\n",
    "    returns = mean @ weights.T\n",
    "    std = np.sqrt(weights @ cov @ weights.T)\n",
    "    return -(returns - r) / std\n",
    "\n",
    "args = (expect_return, cov_matrix, 0.045)\n",
    "bounds = [(0.0, 1) for _ in stocks]\n",
    "x0 = np.array(3*[1 / 3])\n",
    "constraints = {'type':'eq', 'fun': lambda x: np.sum(x) - 1}\n",
    "results = scipy.optimize.minimize(neg_sharpe_ratio, x0=x0, args=args, bounds = bounds, constraints=constraints)\n",
    "opt_sharpe, opt_weights = -results.fun, pd.Series(results.x, index=stocks)\n",
    "opt_weights = pd.DataFrame(opt_weights, columns=['weights(%)'])\n",
    "opt_weights['weights(%)'] = round(opt_weights*100, 2)\n",
    "\n",
    "print(\"The most efficient portfolio consists of: \")\n",
    "display(opt_weights)\n",
    "print(\"The Portfolio's Sharpe Ratio is: \" + str(opt_sharpe))"
   ]
  },
  {
   "cell_type": "code",
   "execution_count": 94,
   "id": "052494e2-e114-447e-8ed6-9e72b60b7fdc",
   "metadata": {},
   "outputs": [
    {
     "name": "stdout",
     "output_type": "stream",
     "text": [
      "Optimization terminated successfully    (Exit mode 0)\n",
      "            Current function value: 3.009876629908044e-08\n",
      "            Iterations: 4\n",
      "            Function evaluations: 16\n",
      "            Gradient evaluations: 4\n",
      "[[0.34576234 0.34806117 0.30617649]]\n",
      "The above matrix is the corresponding weight for risk parity portfolio.\n"
     ]
    }
   ],
   "source": [
    "# Question 3(b)\n",
    " # risk budgeting optimization\n",
    "def calculate_portfolio_var(w,V):\n",
    "    # function that calculates portfolio risk\n",
    "    w = np.matrix(w)\n",
    "    return (w*V*w.T)[0,0]\n",
    "\n",
    "def calculate_risk_contribution(w,V):\n",
    "    # function that calculates asset contribution to total risk\n",
    "    w = np.matrix(w)\n",
    "    sigma = np.sqrt(calculate_portfolio_var(w,V))\n",
    "    # Marginal Risk Contribution\n",
    "    MRC = V*w.T\n",
    "    # Risk Contribution\n",
    "    RC = np.multiply(MRC,w.T)/sigma\n",
    "    return RC\n",
    "\n",
    "def risk_budget_objective(x,pars):\n",
    "    # calculate portfolio risk\n",
    "    V = pars[0]# covariance table\n",
    "    x_t = pars[1] # risk target in percent of portfolio risk\n",
    "    sig_p =  np.sqrt(calculate_portfolio_var(x,V)) # portfolio sigma\n",
    "    risk_target = np.asmatrix(np.multiply(sig_p,x_t))\n",
    "    asset_RC = calculate_risk_contribution(x,V)\n",
    "    J = sum(np.square(asset_RC-risk_target.T))[0,0] # sum of squared error\n",
    "    return J\n",
    "\n",
    "def total_weight_constraint(x):\n",
    "    return np.sum(x)-1.0\n",
    "\n",
    "def long_only_constraint(x):\n",
    "    return x\n",
    "\n",
    "x_t = np.array([1, 1, 1]) / 3 # your risk budget percent of total portfolio risk (equal risk)\n",
    "w0 = np.array([1, 1, 1]) / 3 \n",
    "cons = ({'type': 'eq', 'fun': total_weight_constraint},\n",
    "{'type': 'ineq', 'fun': long_only_constraint})\n",
    "res= minimize(risk_budget_objective, w0, args=[cov_matrix,x_t], method='SLSQP',constraints=cons, options={'disp': True})\n",
    "w_rb = np.asmatrix(res.x)\n",
    "print(w_rb)\n",
    "print('The above matrix is the corresponding weight for risk parity portfolio.')"
   ]
  },
  {
   "cell_type": "code",
   "execution_count": 131,
   "id": "29876fed-af17-400c-8e16-d071ff129091",
   "metadata": {},
   "outputs": [
    {
     "name": "stdout",
     "output_type": "stream",
     "text": [
      "ER optimal: [[0.12098371]]\n",
      "ER RP: [[0.12097494]]\n",
      "SD optimal: [[0.1364917]]\n",
      "SD RP: [[0.1364841]]\n",
      "SR optimal: [[0.55669111]]\n",
      "SR RP: [[0.55665782]]\n"
     ]
    }
   ],
   "source": [
    "# Question 3(c)\n",
    "opt_w = np.matrix(opt_weights)/100\n",
    "RP_w = w_rb\n",
    "ER_O = expect_return*opt_w\n",
    "ER_R = expect_return*RP_w.T\n",
    "SD_O = np.sqrt(opt_w.T*cov_matrix*opt_w)\n",
    "SD_R = np.sqrt(RP_w*cov_matrix*RP_w.T)\n",
    "SR_O = (expect_return*opt_w-0.045)/SD_O \n",
    "SR_R = (expect_return*RP_w.T-0.045)/SD_R\n",
    "print('ER optimal:', ER_O)\n",
    "print('ER RP:', ER_R)\n",
    "print('SD optimal:', SD_O)\n",
    "print('SD RP:', SD_R)\n",
    "print('SR optimal:', SR_O)\n",
    "print('SR RP:', SR_R)"
   ]
  },
  {
   "cell_type": "code",
   "execution_count": 235,
   "id": "83ba71c9-86a3-44d2-a78c-cfc24d232289",
   "metadata": {},
   "outputs": [],
   "source": [
    "# Question 3(c)"
   ]
  },
  {
   "cell_type": "markdown",
   "id": "7a6b5fe1-87cf-45e7-8de4-b856b56a8d57",
   "metadata": {},
   "source": [
    "The weights are very similar to each other, and it's almost identical with just a little difference.\n",
    "We can see that from the above ER, SD, and SR analysis that these three numbers for optimal portfolio and\n",
    "for risk parity portfolio are very similar and very close to each other. This can also explain why\n",
    "the weights for two portfolios are very close to each other."
   ]
  },
  {
   "cell_type": "code",
   "execution_count": 225,
   "id": "33145abb-e941-497c-b6ad-b983399c2d7f",
   "metadata": {},
   "outputs": [],
   "source": [
    "# Question 4(b) & 4(c) Note that 4(a) is followed by (b)&(c)"
   ]
  },
  {
   "cell_type": "code",
   "execution_count": 162,
   "id": "6d5fdf31-d8ce-4da3-b592-20aa88d22135",
   "metadata": {},
   "outputs": [],
   "source": [
    "q4 = pd.read_csv(\"problem4_returns.csv\").drop(['Date'], axis=1)\n",
    "port_weight = np.matrix(pd.read_csv('problem4_startWeight.csv'))\n",
    "portfolio_weight=[0.3457527 , 0.27249649, 0.38175081]"
   ]
  },
  {
   "cell_type": "code",
   "execution_count": 205,
   "id": "ca847b07-cddc-4895-aa5c-3b5be309e74d",
   "metadata": {},
   "outputs": [
    {
     "name": "stdout",
     "output_type": "stream",
     "text": [
      "Return Attribution and risk Attribution for each asset are in the following table:\n",
      "                Value    Asset1    Asset2    Asset3  Portfolio\n",
      "0         TotalReturn -0.281192  0.356570  0.581352   0.221873\n",
      "1  Return Attribution -0.086871  0.087059  0.221685   0.221873\n",
      "2     Vol Attribution  0.009658  0.004309  0.016932   0.030898\n"
     ]
    }
   ],
   "source": [
    "# Get Updated Prices\n",
    "stocks=['Asset1', 'Asset2', 'Asset3']\n",
    "portfolio_weight=[0.3457527 , 0.27249649, 0.38175081]\n",
    "\n",
    "# Calculate portfolio return and updated weights for each day\n",
    "n = q4.shape[0]\n",
    "m = len(stocks)\n",
    "\n",
    "pReturn = np.empty(n)\n",
    "weights = np.empty((n, len(portfolio_weight)))\n",
    "lastW = portfolio_weight.copy()\n",
    "matReturns = q4[stocks].values\n",
    "update_weights = []\n",
    "for i in range(n):\n",
    "    # Save Current Weights in Matrix\n",
    "    weights[i, :] = lastW\n",
    "\n",
    "    # Update Weights by return\n",
    "    lastW = lastW * (1.0 + matReturns[i, :])\n",
    "\n",
    "    # Portfolio return is the sum of the updated weights\n",
    "    pR = lastW.sum()\n",
    "\n",
    "    # Normalize the weights back so sum = 1\n",
    "    lastW = lastW / pR\n",
    "    update_weights.append(lastW)\n",
    "\n",
    "    # Store the return\n",
    "    pReturn[i] = pR - 1\n",
    "\n",
    "# Set the portfolio return in the Update Return DataFrame\n",
    "q4[\"Portfolio\"] = pReturn\n",
    "# Calculate the total return\n",
    "totalRet = np.exp(np.sum(np.log(pReturn + 1))) - 1\n",
    "# Calculate the Carino K\n",
    "k = np.log(totalRet + 1) / totalRet\n",
    "\n",
    "# Carino k_t is the ratio scaled by 1/K\n",
    "carinoK = np.log(1.0 + pReturn) / pReturn / k\n",
    "\n",
    "# Calculate the return attribution\n",
    "attrib = pd.DataFrame(matReturns * weights * carinoK[:, np.newaxis], columns=stocks)\n",
    "\n",
    "# Set up a DataFrame for output\n",
    "Attribution = pd.DataFrame({\"Value\": [\"TotalReturn\", \"Return Attribution\"]})\n",
    "\n",
    "# Loop over the stocks\n",
    "for s in stocks + [\"Portfolio\"]:\n",
    "    # Total Stock return over the period\n",
    "    tr = np.exp(np.sum(np.log(q4[s] + 1))) - 1\n",
    "\n",
    "    # Attribution Return (total portfolio return if we are updating the portfolio column)\n",
    "    atr = tr if s == \"Portfolio\" else attrib[s].sum()\n",
    "\n",
    "    # Set the values\n",
    "    Attribution[s] = [tr, atr]\n",
    "\n",
    "# Realized Volatility Attribution\n",
    "\n",
    "# Y is our stock returns scaled by their weight at each time\n",
    "Y = matReturns * weights\n",
    "\n",
    "# Set up X with the Portfolio Return\n",
    "X = np.column_stack((np.ones(n), pReturn))\n",
    "\n",
    "# Calculate the Beta and discard the intercept\n",
    "B = np.linalg.inv(X.T @ X) @ X.T @ Y\n",
    "B = B[1, :]\n",
    "\n",
    "# Component SD is Beta times the standard Deviation of the portfolio\n",
    "cSD = B * np.std(pReturn)\n",
    "\n",
    "# Add the Vol attribution to the output\n",
    "vol_attrib = pd.DataFrame({\"Value\": [\"Vol Attribution\"], **{stocks[i]: [cSD[i]] for i in range(len(stocks))}, \"Portfolio\": [np.std(pReturn)]})\n",
    "\n",
    "Attribution = pd.concat([Attribution, vol_attrib], ignore_index=True)\n",
    "print('Return Attribution and risk Attribution for each asset are in the following table:')\n",
    "print(Attribution)"
   ]
  },
  {
   "cell_type": "code",
   "execution_count": 224,
   "id": "012cff9f-6476-4837-9507-538710ded401",
   "metadata": {},
   "outputs": [
    {
     "name": "stdout",
     "output_type": "stream",
     "text": [
      "The new weights for each time period is as the following:\n",
      "           0         1         2        Date\n",
      "0   0.340701  0.276936  0.382363  2023-04-12\n",
      "1   0.342880  0.264561  0.392559  2023-04-13\n",
      "2   0.345686  0.245843  0.408471  2023-04-14\n",
      "3   0.345938  0.256509  0.397553  2023-04-15\n",
      "4   0.336285  0.248698  0.415018  2023-04-16\n",
      "5   0.327108  0.247798  0.425094  2023-04-17\n",
      "6   0.315249  0.245591  0.439161  2023-04-18\n",
      "7   0.313195  0.224855  0.461951  2023-04-19\n",
      "8   0.302968  0.236569  0.460463  2023-04-20\n",
      "9   0.289797  0.247324  0.462879  2023-04-21\n",
      "10  0.299361  0.239763  0.460876  2023-04-22\n",
      "11  0.279797  0.225325  0.494878  2023-04-23\n",
      "12  0.281712  0.231770  0.486518  2023-04-24\n",
      "13  0.277160  0.255895  0.466945  2023-04-25\n",
      "14  0.265720  0.255861  0.478419  2023-04-26\n",
      "15  0.260515  0.264125  0.475360  2023-04-27\n",
      "16  0.245631  0.278970  0.475399  2023-04-28\n",
      "17  0.220813  0.302848  0.476339  2023-04-29\n",
      "18  0.211770  0.303685  0.484546  2023-04-30\n",
      "19  0.203401  0.302536  0.494063  2023-05-01\n"
     ]
    }
   ],
   "source": [
    "# Question 4(a)\n",
    "new_weights = pd.DataFrame(update_weights)\n",
    "q4date = pd.read_csv(\"problem4_returns.csv\")['Date']\n",
    "new_weights['Date'] = q4date\n",
    "print('The new weights for each time period is as the following:')\n",
    "print(new_weights)"
   ]
  },
  {
   "cell_type": "code",
   "execution_count": 196,
   "id": "a8b18f3d-3eb3-44f1-accc-ee5363a5eaed",
   "metadata": {},
   "outputs": [],
   "source": [
    "# Question 5\n",
    "prices = pd.read_csv(\"problem5.csv\").drop(['Date'],axis=1)\n",
    "returns = risklib.pd_calculate_returns(prices)\n",
    "portfolios = pd.DataFrame()\n",
    "portfolios['Portfolio'] = ['Asset1', 'Asset2', 'Asset3', 'Asset4', 'Asset1&2', 'Asset1&2', 'Asset3&4', 'Asset3&4', 'Total','Total','Total','Total']\n",
    "portfolios['Stock'] = ['Price1', 'Price2', 'Price3', 'Price4', 'Price1', 'Price2', 'Price3', 'Price4', 'Price1','Price2','Price3','Price4']\n",
    "portfolios['Holding'] = [1,1,1,1,1,1,1,1,1,1,1,1]"
   ]
  },
  {
   "cell_type": "code",
   "execution_count": 197,
   "id": "5187ac63-ecc3-4537-b333-21c6b9f0cf2f",
   "metadata": {},
   "outputs": [
    {
     "name": "stdout",
     "output_type": "stream",
     "text": [
      "Portfolio Asset1: 0.04060626910421661\n",
      "Portfolio Asset1&2: 0.08256019979373264\n",
      "Portfolio Asset2: 0.060685296702743585\n",
      "Portfolio Asset3: 0.0538184428363877\n",
      "Portfolio Asset3&4: 0.08618808770157216\n",
      "Portfolio Asset4: 0.044899987915400175\n",
      "Portfolio Total: 0.13797841918773202\n"
     ]
    }
   ],
   "source": [
    "# Calculate t VaR.\n",
    "current_prices = pd.DataFrame({\"Price\":prices.iloc[-1]})\n",
    "\n",
    "for portfolio_index, portfolio in portfolios.groupby('Portfolio'):\n",
    "    portfolio = portfolio.set_index('Stock')\n",
    "    portfolio = portfolio.join(current_prices.loc[portfolio.index])\n",
    "\n",
    "    current_values = portfolio['Holding'] * portfolio['Price']\n",
    "    portfolio_value = current_values.sum()\n",
    "\n",
    "    sim_returns = returns[portfolio.index]\n",
    "    sim_prices = (1 + sim_returns) * portfolio['Price'].T\n",
    "    sim_values = sim_prices @ portfolio['Holding']\n",
    "\n",
    "    t_var = risklib.t_var(sim_values, portfolio_value)\n",
    "    print(f\"Portfolio {portfolio_index}: \" + str(t_var))"
   ]
  },
  {
   "cell_type": "code",
   "execution_count": 201,
   "id": "1cdc2681-fa31-4fd2-9e40-59aeda3598e3",
   "metadata": {},
   "outputs": [
    {
     "name": "stdout",
     "output_type": "stream",
     "text": [
      "Portfolio Asset1 VaR 5%: 0.04060626910421661\n",
      "Portfolio Asset2 VaR 5%: 0.060685296702743585\n",
      "Portfolio Asset3 VaR 5%: 0.0538184428363877\n",
      "Portfolio Asset4 VaR 5%: 0.044899987915400175\n"
     ]
    }
   ],
   "source": [
    "# Question 5(a)\n",
    "print('Portfolio Asset1 VaR 5%: 0.04060626910421661')\n",
    "print('Portfolio Asset2 VaR 5%: 0.060685296702743585')\n",
    "print('Portfolio Asset3 VaR 5%: 0.0538184428363877')\n",
    "print('Portfolio Asset4 VaR 5%: 0.044899987915400175')"
   ]
  },
  {
   "cell_type": "code",
   "execution_count": 203,
   "id": "7c954f8e-dd9e-4f11-bf38-6edd816c631e",
   "metadata": {},
   "outputs": [
    {
     "name": "stdout",
     "output_type": "stream",
     "text": [
      "Portfolio Asset1&2 VaR 5%: 0.08256019979373264\n",
      "Portfolio Asset3&4 VaR 5%: 0.08618808770157216\n"
     ]
    }
   ],
   "source": [
    "# Question 5(b)\n",
    "print('Portfolio Asset1&2 VaR 5%: 0.08256019979373264')\n",
    "print('Portfolio Asset3&4 VaR 5%: 0.08618808770157216')"
   ]
  },
  {
   "cell_type": "code",
   "execution_count": 204,
   "id": "fe9bf621-f48b-4e9c-8934-1c47a6278228",
   "metadata": {},
   "outputs": [
    {
     "name": "stdout",
     "output_type": "stream",
     "text": [
      "Portfolio Total all 4 assets VaR 5%: 0.13797841918773202\n"
     ]
    }
   ],
   "source": [
    "# Question 5(c)\n",
    "print('Portfolio Total all 4 assets VaR 5%: 0.13797841918773202')"
   ]
  }
 ],
 "metadata": {
  "kernelspec": {
   "display_name": "Python 3 (ipykernel)",
   "language": "python",
   "name": "python3"
  },
  "language_info": {
   "codemirror_mode": {
    "name": "ipython",
    "version": 3
   },
   "file_extension": ".py",
   "mimetype": "text/x-python",
   "name": "python",
   "nbconvert_exporter": "python",
   "pygments_lexer": "ipython3",
   "version": "3.10.9"
  }
 },
 "nbformat": 4,
 "nbformat_minor": 5
}
