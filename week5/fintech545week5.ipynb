{
 "cells": [
  {
   "cell_type": "code",
   "execution_count": 1,
   "id": "d556f94c-73ef-4729-9ff1-cce645fd631e",
   "metadata": {},
   "outputs": [],
   "source": [
    "# import packages\n",
    "import numpy as np\n",
    "import matplotlib.pyplot as plt\n",
    "import seaborn as sns\n",
    "from scipy.stats import norm, t\n",
    "import pandas as pd\n",
    "import sys \n",
    "import os\n",
    "sys.path.append(os.path.abspath(\"/Users/pudong/Desktop\"))\n",
    "import risklib"
   ]
  },
  {
   "cell_type": "code",
   "execution_count": null,
   "id": "320eb3d9-de8b-4974-86ee-4d59a052465f",
   "metadata": {},
   "outputs": [],
   "source": [
    "#Question 1"
   ]
  },
  {
   "cell_type": "code",
   "execution_count": 2,
   "id": "b3f25a7e-eee2-47ec-9893-1b8366fd795e",
   "metadata": {},
   "outputs": [
    {
     "name": "stdout",
     "output_type": "stream",
     "text": [
      "Normal distribution VaR: 0.08083001649793141\n",
      "T distribution VaR: 0.07341047133790324\n",
      "\n",
      "Normal distribution ES: 0.10155666084239018\n",
      "T distribution ES: 0.10820008042369983\n"
     ]
    }
   ],
   "source": [
    "# Read in the data\n",
    "data1 = np.genfromtxt('problem1.csv', delimiter=',')\n",
    "data1 = np.delete(data1, 0, 0)\n",
    "\n",
    "# Fit normal distribution.\n",
    "params_norm = norm.fit(data1)\n",
    "mean, std = params_norm\n",
    "\n",
    "# Fit T distribution.\n",
    "params_t = t.fit(data1)\n",
    "df, loc, scale = params_t\n",
    "\n",
    "# Simulation\n",
    "nsamples = 10000\n",
    "norm_simulation = norm(mean, std).rvs(nsamples)\n",
    "t_simulation = t(df, loc, scale).rvs(nsamples)\n",
    "\n",
    "# Calculate VaR\n",
    "var_norm = risklib.calculate_var(norm_simulation)\n",
    "var_t = risklib.calculate_var(t_simulation)\n",
    "print(\"Normal distribution VaR: \" + str(var_norm))\n",
    "print(\"T distribution VaR: \" + str(var_t))\n",
    "print()\n",
    "\n",
    "# Calculate Expected Shortfall\n",
    "es_norm = risklib.calculate_es(norm_simulation)\n",
    "es_t = risklib.calculate_es(t_simulation)\n",
    "print(\"Normal distribution ES: \" + str(es_norm))\n",
    "print(\"T distribution ES: \" + str(es_t))"
   ]
  },
  {
   "cell_type": "code",
   "execution_count": 3,
   "id": "8f780df8-c015-4ae0-bc75-89a0d604495c",
   "metadata": {},
   "outputs": [
    {
     "data": {
      "image/png": "[encoded data removed]",
      "text/plain": [
       "<Figure size 640x480 with 1 Axes>"
      ]
     },
     "metadata": {},
     "output_type": "display_data"
    }
   ],
   "source": [
    "#Figure plot\n",
    "plt.figure()\n",
    "norm_color = \"b\"\n",
    "t_color = \"r\"\n",
    "\n",
    "# Histogram and distributions PDFs\n",
    "sns.histplot(data1, stat=\"density\", color=\"#cadea5\")\n",
    "sns.kdeplot(norm_simulation, color=norm_color, label='Normal')\n",
    "sns.kdeplot(t_simulation, color=t_color, label='T')\n",
    "plt.axvline(-var_norm, color=norm_color, linestyle='--')\n",
    "plt.axvline(-var_t, color=t_color, linestyle='--')\n",
    "plt.axvline(-es_norm, 0, 0.3, color=norm_color)\n",
    "plt.axvline(-es_t, 0, 0.3, color=t_color)\n",
    "\n",
    "plt.xlim(-0.4, 0.4)\n",
    "plt.legend()\n",
    "\n",
    "plt.show()"
   ]
  },
  {
   "cell_type": "code",
   "execution_count": null,
   "id": "754feed9-dee9-4219-8418-bc3705521ba3",
   "metadata": {},
   "outputs": [],
   "source": [
    "# Question 2"
   ]
  },
  {
   "cell_type": "code",
   "execution_count": 5,
   "id": "beac63da-f35b-4ba9-bec5-a5845f603fed",
   "metadata": {},
   "outputs": [
    {
     "name": "stdout",
     "output_type": "stream",
     "text": [
      "(249,)\n",
      "(100, 100)\n"
     ]
    }
   ],
   "source": [
    "# Covariance estimation techniques Test case\n",
    "return_data = np.genfromtxt('DailyReturn.csv', delimiter=',').T\n",
    "return_data = np.delete(return_data, 0, 0)\n",
    "return_data = np.delete(return_data, 0, 1)\n",
    "return_data = np.matrix(np.fliplr(return_data))\n",
    "\n",
    "weights = risklib.calculate_exponential_weights(return_data.shape[1], lamb=0.97)\n",
    "print(weights.shape)\n",
    "\n",
    "ew_cov = risklib.calculate_ewcov(return_data, lamb=0.97)\n",
    "print(ew_cov.shape)"
   ]
  },
  {
   "cell_type": "code",
   "execution_count": 6,
   "id": "5e3068c6-8a8e-4893-950b-a2ba81f29abf",
   "metadata": {},
   "outputs": [
    {
     "name": "stdout",
     "output_type": "stream",
     "text": [
      "True\n",
      "True\n"
     ]
    }
   ],
   "source": [
    "# Non PSD fixes for correlation matrices test case\n",
    "n = 500\n",
    "sigma = np.matrix(np.full((n, n), 0.9))\n",
    "np.fill_diagonal(sigma, 1)\n",
    "sigma[0, 1] = 0.7357\n",
    "sigma[1, 0] = 0.7357\n",
    "\n",
    "def is_psd(matrix, tol=1e-7):\n",
    "    return np.all(np.linalg.eigvals(matrix) >= -tol)\n",
    "\n",
    "near_psd_matrix = risklib.near_psd(sigma)\n",
    "print(is_psd(near_psd_matrix))\n",
    "higham_psd_matrix = risklib.higham_psd(sigma)\n",
    "print(is_psd(higham_psd_matrix))"
   ]
  },
  {
   "cell_type": "code",
   "execution_count": 7,
   "id": "5de5678c-ac8a-488b-a6fb-7f74e19b5ab1",
   "metadata": {},
   "outputs": [
    {
     "name": "stdout",
     "output_type": "stream",
     "text": [
      "(100, 25000)\n",
      "(100, 25000)\n"
     ]
    }
   ],
   "source": [
    "# Simulation Methods test case\n",
    "res_d = risklib.direct_simulation(ew_cov)\n",
    "res_pca = risklib.pca_simulation(ew_cov, pct_explained=0.75)\n",
    "print(res_d.shape)\n",
    "print(res_pca.shape)"
   ]
  },
  {
   "cell_type": "code",
   "execution_count": 8,
   "id": "3a6ab7bd-55c1-411e-953d-3b7ad0f171e3",
   "metadata": {},
   "outputs": [
    {
     "name": "stdout",
     "output_type": "stream",
     "text": [
      "0.024748926964415437 0.018677180480778533 0.024916070020451285 0.026364798323694778\n"
     ]
    }
   ],
   "source": [
    "# VaR calculation methods (all discussed) test case\n",
    "sample_return = (return_data[0] - return_data[0].mean()).T\n",
    "var_norm = risklib.normal_var(sample_return)\n",
    "var_ew_norm = risklib.ewcov_normal_var(sample_return)\n",
    "var_t = risklib.t_var(sample_return)\n",
    "var_hist = risklib.historic_var(sample_return)\n",
    "print(var_norm, var_ew_norm, var_t, var_hist)"
   ]
  },
  {
   "cell_type": "code",
   "execution_count": 9,
   "id": "240e8110-a53b-446d-b544-37b932ffc610",
   "metadata": {},
   "outputs": [
    {
     "name": "stdout",
     "output_type": "stream",
     "text": [
      "0.03340070415446401\n"
     ]
    }
   ],
   "source": [
    "# ES calculation test case\n",
    "es = risklib.calculate_es(sample_return)\n",
    "print(es)"
   ]
  },
  {
   "cell_type": "code",
   "execution_count": null,
   "id": "3cef6383-f81d-48d2-91e3-7a7160478438",
   "metadata": {},
   "outputs": [],
   "source": [
    "# Question 3"
   ]
  },
  {
   "cell_type": "code",
   "execution_count": 10,
   "id": "5d32a8ce-b784-4d4c-8089-0704e5029eeb",
   "metadata": {},
   "outputs": [
    {
     "name": "stderr",
     "output_type": "stream",
     "text": [
      "/var/folders/fw/6q32dx0x4lsc4ns_jfb1112m0000gn/T/ipykernel_13965/4231478952.py:9: FutureWarning: The frame.append method is deprecated and will be removed from pandas in a future version. Use pandas.concat instead.\n",
      "  portfolios = portfolios.append(total_holdings)\n"
     ]
    }
   ],
   "source": [
    "prices = pd.read_csv(\"DailyPrices.csv\", parse_dates=[0], index_col=0)\n",
    "portfolios = pd.read_csv(\"portfolio.csv\")\n",
    "returns = risklib.pd_calculate_returns(prices)\n",
    "\n",
    "# Combine portfolios\n",
    "total_holdings = portfolios.groupby('Stock').sum('Holding')\n",
    "total_holdings['Portfolio'] = 'Total'\n",
    "total_holdings = total_holdings.reset_index()\n",
    "portfolios = portfolios.append(total_holdings)"
   ]
  },
  {
   "cell_type": "code",
   "execution_count": 11,
   "id": "72c50e89-8950-42ae-8d9d-848cff17d8f0",
   "metadata": {},
   "outputs": [],
   "source": [
    "t_params = {}\n",
    "hist_data = []\n",
    "sim_data = []\n",
    "for col in returns:\n",
    "    stock_returns = returns[col]\n",
    "    # Assume the expected return is 0 according to question\n",
    "    stock_returns -= stock_returns.mean()\n",
    "    hist_data.append(stock_returns)\n",
    "    # fit generalized t distribution\n",
    "    result = t.fit(stock_returns, method=\"MLE\")\n",
    "    df, loc, scale = result\n",
    "    t_params[col] = [df, loc, scale]\n",
    "    # simulate\n",
    "    sim_data.append(t(df, loc, scale).rvs(10000))\n",
    "hist_data = np.array(hist_data)\n",
    "sim_data = np.array(sim_data)"
   ]
  },
  {
   "cell_type": "code",
   "execution_count": 12,
   "id": "c593d5a4-3e50-4bea-a9ea-19b50174dcc0",
   "metadata": {},
   "outputs": [],
   "source": [
    "# create pandas dataframe for the returns\n",
    "historical_returns = pd.DataFrame(columns=returns.columns, data=hist_data.T)\n",
    "simulated_returns = pd.DataFrame(columns=returns.columns, data=sim_data.T)"
   ]
  },
  {
   "cell_type": "code",
   "execution_count": 14,
   "id": "0f94429a-193a-49c3-9720-65763e9bcd9a",
   "metadata": {},
   "outputs": [
    {
     "name": "stdout",
     "output_type": "stream",
     "text": [
      "Portfolio A VaR: 8805.507754785509\n",
      "Portfolio A ES: 10438.09016614881\n",
      "\n",
      "Portfolio B VaR: 6981.307577790557\n",
      "Portfolio B ES: 8945.79531744502\n",
      "\n",
      "Portfolio C VaR: 5496.294533012176\n",
      "Portfolio C ES: 7436.626667146727\n",
      "\n",
      "Portfolio Total VaR: 21076.418322771406\n",
      "Portfolio Total ES: 26687.791306205963\n",
      "\n"
     ]
    }
   ],
   "source": [
    "# for historical data\n",
    "current_prices = pd.DataFrame({\"Price\":prices.iloc[-1]})\n",
    "\n",
    "for portfolio_index, portfolio in portfolios.groupby('Portfolio'):\n",
    "    portfolio = portfolio.set_index('Stock')\n",
    "    portfolio = portfolio.join(current_prices.loc[portfolio.index])\n",
    "\n",
    "    hist_returns = historical_returns[portfolio.index]\n",
    "    sim_prices_change = hist_returns * portfolio['Price'].T\n",
    "    sim_values_change = sim_prices_change @ portfolio['Holding']\n",
    "\n",
    "    historic_var = risklib.calculate_var(sim_values_change)\n",
    "    historic_es = risklib.calculate_es(sim_values_change)\n",
    "    print(f\"Portfolio {portfolio_index} \" + \"VaR: \" + str(historic_var))\n",
    "    print(f\"Portfolio {portfolio_index} \" + \"ES: \" + str(historic_es))\n",
    "    print()"
   ]
  },
  {
   "cell_type": "code",
   "execution_count": 15,
   "id": "94c3f11f-9119-4dcd-979a-f04db9b90eb2",
   "metadata": {},
   "outputs": [
    {
     "name": "stdout",
     "output_type": "stream",
     "text": [
      "Portfolio A VaR: 2006.4609446966533\n",
      "Portfolio A ES: 2529.3345196176138\n",
      "\n",
      "Portfolio B VaR: 1882.9713069221045\n",
      "Portfolio B ES: 2368.122887611612\n",
      "\n",
      "Portfolio C VaR: 1581.5563530839136\n",
      "Portfolio C ES: 2054.84685017911\n",
      "\n",
      "Portfolio Total VaR: 3150.4144172653027\n",
      "Portfolio Total ES: 3990.1516833426354\n",
      "\n"
     ]
    }
   ],
   "source": [
    "# for simulated data based on t distribution\n",
    "for portfolio_index, portfolio in portfolios.groupby('Portfolio'):\n",
    "    portfolio = portfolio.set_index('Stock')\n",
    "    portfolio = portfolio.join(current_prices.loc[portfolio.index])\n",
    "\n",
    "    sim_returns = simulated_returns[portfolio.index]\n",
    "    sim_prices_change = sim_returns * portfolio['Price'].T\n",
    "    sim_values_change = sim_prices_change @ portfolio['Holding']\n",
    "\n",
    "    sim_var = risklib.calculate_var(sim_values_change)\n",
    "    sim_es = risklib.calculate_es(sim_values_change)\n",
    "    print(f\"Portfolio {portfolio_index} \" + \"VaR: \" + str(sim_var))\n",
    "    print(f\"Portfolio {portfolio_index} \" + \"ES: \" + str(sim_es))\n",
    "    print() "
   ]
  }
 ],
 "metadata": {
  "kernelspec": {
   "display_name": "Python 3 (ipykernel)",
   "language": "python",
   "name": "python3"
  },
  "language_info": {
   "codemirror_mode": {
    "name": "ipython",
    "version": 3
   },
   "file_extension": ".py",
   "mimetype": "text/x-python",
   "name": "python",
   "nbconvert_exporter": "python",
   "pygments_lexer": "ipython3",
   "version": "3.9.13"
  }
 },
 "nbformat": 4,
 "nbformat_minor": 5
}
